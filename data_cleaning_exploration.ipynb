{
 "cells": [
  {
   "cell_type": "code",
   "execution_count": 2,
   "metadata": {},
   "outputs": [
    {
     "data": {
      "text/html": [
       "<div>\n",
       "<style scoped>\n",
       "    .dataframe tbody tr th:only-of-type {\n",
       "        vertical-align: middle;\n",
       "    }\n",
       "\n",
       "    .dataframe tbody tr th {\n",
       "        vertical-align: top;\n",
       "    }\n",
       "\n",
       "    .dataframe thead th {\n",
       "        text-align: right;\n",
       "    }\n",
       "</style>\n",
       "<table border=\"1\" class=\"dataframe\">\n",
       "  <thead>\n",
       "    <tr style=\"text-align: right;\">\n",
       "      <th></th>\n",
       "      <th>MOVIES</th>\n",
       "      <th>YEAR</th>\n",
       "      <th>GENRE</th>\n",
       "      <th>RATING</th>\n",
       "      <th>ONE-LINE</th>\n",
       "      <th>STARS</th>\n",
       "      <th>VOTES</th>\n",
       "      <th>RunTime</th>\n",
       "      <th>Gross</th>\n",
       "    </tr>\n",
       "  </thead>\n",
       "  <tbody>\n",
       "    <tr>\n",
       "      <th>0</th>\n",
       "      <td>Blood Red Sky</td>\n",
       "      <td>(2021)</td>\n",
       "      <td>\\nAction, Horror, Thriller</td>\n",
       "      <td>6.1</td>\n",
       "      <td>\\nA woman with a mysterious illness is forced ...</td>\n",
       "      <td>\\n    Director:\\nPeter Thorwarth\\n| \\n    Star...</td>\n",
       "      <td>21,062</td>\n",
       "      <td>121.0</td>\n",
       "      <td>NaN</td>\n",
       "    </tr>\n",
       "    <tr>\n",
       "      <th>1</th>\n",
       "      <td>Masters of the Universe: Revelation</td>\n",
       "      <td>(2021– )</td>\n",
       "      <td>\\nAnimation, Action, Adventure</td>\n",
       "      <td>5.0</td>\n",
       "      <td>\\nThe war for Eternia begins again in what may...</td>\n",
       "      <td>\\n            \\n    Stars:\\nChris Wood, \\nSara...</td>\n",
       "      <td>17,870</td>\n",
       "      <td>25.0</td>\n",
       "      <td>NaN</td>\n",
       "    </tr>\n",
       "    <tr>\n",
       "      <th>2</th>\n",
       "      <td>The Walking Dead</td>\n",
       "      <td>(2010–2022)</td>\n",
       "      <td>\\nDrama, Horror, Thriller</td>\n",
       "      <td>8.2</td>\n",
       "      <td>\\nSheriff Deputy Rick Grimes wakes up from a c...</td>\n",
       "      <td>\\n            \\n    Stars:\\nAndrew Lincoln, \\n...</td>\n",
       "      <td>885,805</td>\n",
       "      <td>44.0</td>\n",
       "      <td>NaN</td>\n",
       "    </tr>\n",
       "    <tr>\n",
       "      <th>3</th>\n",
       "      <td>Rick and Morty</td>\n",
       "      <td>(2013– )</td>\n",
       "      <td>\\nAnimation, Adventure, Comedy</td>\n",
       "      <td>9.2</td>\n",
       "      <td>\\nAn animated series that follows the exploits...</td>\n",
       "      <td>\\n            \\n    Stars:\\nJustin Roiland, \\n...</td>\n",
       "      <td>414,849</td>\n",
       "      <td>23.0</td>\n",
       "      <td>NaN</td>\n",
       "    </tr>\n",
       "    <tr>\n",
       "      <th>4</th>\n",
       "      <td>Army of Thieves</td>\n",
       "      <td>(2021)</td>\n",
       "      <td>\\nAction, Crime, Horror</td>\n",
       "      <td>NaN</td>\n",
       "      <td>\\nA prequel, set before the events of Army of ...</td>\n",
       "      <td>\\n    Director:\\nMatthias Schweighöfer\\n| \\n  ...</td>\n",
       "      <td>NaN</td>\n",
       "      <td>NaN</td>\n",
       "      <td>NaN</td>\n",
       "    </tr>\n",
       "  </tbody>\n",
       "</table>\n",
       "</div>"
      ],
      "text/plain": [
       "                                MOVIES         YEAR  \\\n",
       "0                        Blood Red Sky       (2021)   \n",
       "1  Masters of the Universe: Revelation     (2021– )   \n",
       "2                     The Walking Dead  (2010–2022)   \n",
       "3                       Rick and Morty     (2013– )   \n",
       "4                      Army of Thieves       (2021)   \n",
       "\n",
       "                                        GENRE  RATING  \\\n",
       "0      \\nAction, Horror, Thriller                 6.1   \n",
       "1  \\nAnimation, Action, Adventure                 5.0   \n",
       "2       \\nDrama, Horror, Thriller                 8.2   \n",
       "3  \\nAnimation, Adventure, Comedy                 9.2   \n",
       "4         \\nAction, Crime, Horror                 NaN   \n",
       "\n",
       "                                            ONE-LINE  \\\n",
       "0  \\nA woman with a mysterious illness is forced ...   \n",
       "1  \\nThe war for Eternia begins again in what may...   \n",
       "2  \\nSheriff Deputy Rick Grimes wakes up from a c...   \n",
       "3  \\nAn animated series that follows the exploits...   \n",
       "4  \\nA prequel, set before the events of Army of ...   \n",
       "\n",
       "                                               STARS    VOTES  RunTime Gross  \n",
       "0  \\n    Director:\\nPeter Thorwarth\\n| \\n    Star...   21,062    121.0   NaN  \n",
       "1  \\n            \\n    Stars:\\nChris Wood, \\nSara...   17,870     25.0   NaN  \n",
       "2  \\n            \\n    Stars:\\nAndrew Lincoln, \\n...  885,805     44.0   NaN  \n",
       "3  \\n            \\n    Stars:\\nJustin Roiland, \\n...  414,849     23.0   NaN  \n",
       "4  \\n    Director:\\nMatthias Schweighöfer\\n| \\n  ...      NaN      NaN   NaN  "
      ]
     },
     "execution_count": 2,
     "metadata": {},
     "output_type": "execute_result"
    }
   ],
   "source": [
    "# Imports\n",
    "import pandas as pd\n",
    "\n",
    "# Convert the csv file to a dataframe\n",
    "movies = pd.read_csv('movies.csv')\n",
    "\n",
    "# Show the first few lines\n",
    "movies.head()"
   ]
  },
  {
   "cell_type": "code",
   "execution_count": 3,
   "metadata": {},
   "outputs": [
    {
     "name": "stdout",
     "output_type": "stream",
     "text": [
      "<class 'pandas.core.frame.DataFrame'>\n",
      "RangeIndex: 9999 entries, 0 to 9998\n",
      "Data columns (total 9 columns):\n",
      " #   Column    Non-Null Count  Dtype  \n",
      "---  ------    --------------  -----  \n",
      " 0   MOVIES    9999 non-null   object \n",
      " 1   YEAR      9355 non-null   object \n",
      " 2   GENRE     9919 non-null   object \n",
      " 3   RATING    8179 non-null   float64\n",
      " 4   ONE-LINE  9999 non-null   object \n",
      " 5   STARS     9999 non-null   object \n",
      " 6   VOTES     8179 non-null   object \n",
      " 7   RunTime   7041 non-null   float64\n",
      " 8   Gross     460 non-null    object \n",
      "dtypes: float64(2), object(7)\n",
      "memory usage: 703.2+ KB\n"
     ]
    }
   ],
   "source": [
    "# Check data types of the dataframe\n",
    "movies.info()"
   ]
  },
  {
   "cell_type": "code",
   "execution_count": 4,
   "metadata": {},
   "outputs": [
    {
     "data": {
      "text/plain": [
       "MOVIES         0\n",
       "YEAR         644\n",
       "GENRE         80\n",
       "RATING      1820\n",
       "ONE-LINE       0\n",
       "STARS          0\n",
       "VOTES       1820\n",
       "RunTime     2958\n",
       "Gross       9539\n",
       "dtype: int64"
      ]
     },
     "execution_count": 4,
     "metadata": {},
     "output_type": "execute_result"
    }
   ],
   "source": [
    "# Check null value count\n",
    "movies.isnull().sum()"
   ]
  },
  {
   "cell_type": "code",
   "execution_count": 5,
   "metadata": {},
   "outputs": [],
   "source": [
    "# Rename dataframe columns\n",
    "movies = movies.rename({'MOVIES': 'title', 'YEAR':'year', 'GENRE':'genre', 'RATING':'rating', 'ONE-LINE':'description', 'STARS':'cast', 'VOTES':'votes', 'RunTime':'runtime', 'Gross':'gross'}, axis=1)"
   ]
  },
  {
   "cell_type": "code",
   "execution_count": 6,
   "metadata": {},
   "outputs": [
    {
     "data": {
      "text/plain": [
       "['title',\n",
       " 'year',\n",
       " 'genre',\n",
       " 'rating',\n",
       " 'description',\n",
       " 'cast',\n",
       " 'votes',\n",
       " 'runtime',\n",
       " 'gross']"
      ]
     },
     "execution_count": 6,
     "metadata": {},
     "output_type": "execute_result"
    }
   ],
   "source": [
    "# Check if the columns are renamed\n",
    "movies.columns.to_list()"
   ]
  },
  {
   "cell_type": "code",
   "execution_count": 7,
   "metadata": {},
   "outputs": [],
   "source": [
    "# Remove newline characters\n",
    "movies = movies.map(lambda x: x.strip().replace('\\n', '') if isinstance(x, str) else x)"
   ]
  },
  {
   "cell_type": "code",
   "execution_count": 8,
   "metadata": {},
   "outputs": [],
   "source": [
    "# Extract start_year and end_year\n",
    "movies[['start_year', 'end_year']] = movies['year'].str.extract(r'\\((\\d{4})[– ]*(\\d{4})?\\)')\n",
    "\n",
    "# Fill NaN in end_year with 'Ongoing' if missing\n",
    "movies['end_year'] = movies['end_year'].fillna('N/A')"
   ]
  },
  {
   "cell_type": "code",
   "execution_count": 9,
   "metadata": {},
   "outputs": [],
   "source": [
    "# Create new type column based on existence of start and end dates\n",
    "movies['type'] = movies['end_year'].apply(lambda x: 'movie' if x == 'N/A' else 'series')"
   ]
  },
  {
   "cell_type": "code",
   "execution_count": 10,
   "metadata": {},
   "outputs": [],
   "source": [
    "# Drop year column\n",
    "movies = movies.drop('year', axis=1)"
   ]
  },
  {
   "cell_type": "code",
   "execution_count": 11,
   "metadata": {},
   "outputs": [],
   "source": [
    "# Convert rating to float\n",
    "movies['rating'] = pd.to_numeric(movies['rating'], errors='coerce')\n",
    "\n",
    "# Convert 'votes' to string before replacing commas\n",
    "movies['votes'] = movies['votes'].astype(str).str.replace(',', '', regex=True)\n",
    "\n",
    "# Convert to integer (handling NaN values properly)\n",
    "movies['votes'] = pd.to_numeric(movies['votes'], errors='coerce').astype('Int64')\n",
    "\n",
    "# Convert runtime to integer (assuming it's in minutes)\n",
    "movies['runtime'] = pd.to_numeric(movies['runtime'], errors='coerce').astype('Int64')\n",
    "\n",
    "# Convert start_year and end_year to datetime (assuming only year is given)\n",
    "movies['start_year'] = pd.to_datetime(movies['start_year'], format='%Y', errors='coerce')\n",
    "movies['end_year'] = pd.to_datetime(movies['end_year'], format='%Y', errors='coerce')\n"
   ]
  },
  {
   "cell_type": "code",
   "execution_count": 12,
   "metadata": {},
   "outputs": [
    {
     "data": {
      "text/html": [
       "<div>\n",
       "<style scoped>\n",
       "    .dataframe tbody tr th:only-of-type {\n",
       "        vertical-align: middle;\n",
       "    }\n",
       "\n",
       "    .dataframe tbody tr th {\n",
       "        vertical-align: top;\n",
       "    }\n",
       "\n",
       "    .dataframe thead th {\n",
       "        text-align: right;\n",
       "    }\n",
       "</style>\n",
       "<table border=\"1\" class=\"dataframe\">\n",
       "  <thead>\n",
       "    <tr style=\"text-align: right;\">\n",
       "      <th></th>\n",
       "      <th>title</th>\n",
       "      <th>rating</th>\n",
       "      <th>description</th>\n",
       "      <th>cast</th>\n",
       "      <th>votes</th>\n",
       "      <th>runtime</th>\n",
       "      <th>gross</th>\n",
       "      <th>start_year</th>\n",
       "      <th>end_year</th>\n",
       "      <th>type</th>\n",
       "      <th>genre1</th>\n",
       "      <th>genre2</th>\n",
       "      <th>genre3</th>\n",
       "    </tr>\n",
       "  </thead>\n",
       "  <tbody>\n",
       "    <tr>\n",
       "      <th>0</th>\n",
       "      <td>Blood Red Sky</td>\n",
       "      <td>6.1</td>\n",
       "      <td>A woman with a mysterious illness is forced in...</td>\n",
       "      <td>Director:Peter Thorwarth|     Stars:Peri Baume...</td>\n",
       "      <td>21062</td>\n",
       "      <td>121</td>\n",
       "      <td>NaN</td>\n",
       "      <td>2021-01-01</td>\n",
       "      <td>NaT</td>\n",
       "      <td>movie</td>\n",
       "      <td>Action</td>\n",
       "      <td>Horror</td>\n",
       "      <td>Thriller</td>\n",
       "    </tr>\n",
       "    <tr>\n",
       "      <th>1</th>\n",
       "      <td>Masters of the Universe: Revelation</td>\n",
       "      <td>5.0</td>\n",
       "      <td>The war for Eternia begins again in what may b...</td>\n",
       "      <td>Stars:Chris Wood, Sarah Michelle Gellar, Lena ...</td>\n",
       "      <td>17870</td>\n",
       "      <td>25</td>\n",
       "      <td>NaN</td>\n",
       "      <td>2021-01-01</td>\n",
       "      <td>NaT</td>\n",
       "      <td>movie</td>\n",
       "      <td>Animation</td>\n",
       "      <td>Action</td>\n",
       "      <td>Adventure</td>\n",
       "    </tr>\n",
       "    <tr>\n",
       "      <th>2</th>\n",
       "      <td>The Walking Dead</td>\n",
       "      <td>8.2</td>\n",
       "      <td>Sheriff Deputy Rick Grimes wakes up from a com...</td>\n",
       "      <td>Stars:Andrew Lincoln, Norman Reedus, Melissa M...</td>\n",
       "      <td>885805</td>\n",
       "      <td>44</td>\n",
       "      <td>NaN</td>\n",
       "      <td>2010-01-01</td>\n",
       "      <td>2022-01-01</td>\n",
       "      <td>series</td>\n",
       "      <td>Drama</td>\n",
       "      <td>Horror</td>\n",
       "      <td>Thriller</td>\n",
       "    </tr>\n",
       "    <tr>\n",
       "      <th>3</th>\n",
       "      <td>Rick and Morty</td>\n",
       "      <td>9.2</td>\n",
       "      <td>An animated series that follows the exploits o...</td>\n",
       "      <td>Stars:Justin Roiland, Chris Parnell, Spencer G...</td>\n",
       "      <td>414849</td>\n",
       "      <td>23</td>\n",
       "      <td>NaN</td>\n",
       "      <td>2013-01-01</td>\n",
       "      <td>NaT</td>\n",
       "      <td>movie</td>\n",
       "      <td>Animation</td>\n",
       "      <td>Adventure</td>\n",
       "      <td>Comedy</td>\n",
       "    </tr>\n",
       "    <tr>\n",
       "      <th>4</th>\n",
       "      <td>Army of Thieves</td>\n",
       "      <td>NaN</td>\n",
       "      <td>A prequel, set before the events of Army of th...</td>\n",
       "      <td>Director:Matthias Schweighöfer|     Stars:Matt...</td>\n",
       "      <td>&lt;NA&gt;</td>\n",
       "      <td>&lt;NA&gt;</td>\n",
       "      <td>NaN</td>\n",
       "      <td>2021-01-01</td>\n",
       "      <td>NaT</td>\n",
       "      <td>movie</td>\n",
       "      <td>Action</td>\n",
       "      <td>Crime</td>\n",
       "      <td>Horror</td>\n",
       "    </tr>\n",
       "  </tbody>\n",
       "</table>\n",
       "</div>"
      ],
      "text/plain": [
       "                                 title  rating  \\\n",
       "0                        Blood Red Sky     6.1   \n",
       "1  Masters of the Universe: Revelation     5.0   \n",
       "2                     The Walking Dead     8.2   \n",
       "3                       Rick and Morty     9.2   \n",
       "4                      Army of Thieves     NaN   \n",
       "\n",
       "                                         description  \\\n",
       "0  A woman with a mysterious illness is forced in...   \n",
       "1  The war for Eternia begins again in what may b...   \n",
       "2  Sheriff Deputy Rick Grimes wakes up from a com...   \n",
       "3  An animated series that follows the exploits o...   \n",
       "4  A prequel, set before the events of Army of th...   \n",
       "\n",
       "                                                cast   votes  runtime gross  \\\n",
       "0  Director:Peter Thorwarth|     Stars:Peri Baume...   21062      121   NaN   \n",
       "1  Stars:Chris Wood, Sarah Michelle Gellar, Lena ...   17870       25   NaN   \n",
       "2  Stars:Andrew Lincoln, Norman Reedus, Melissa M...  885805       44   NaN   \n",
       "3  Stars:Justin Roiland, Chris Parnell, Spencer G...  414849       23   NaN   \n",
       "4  Director:Matthias Schweighöfer|     Stars:Matt...    <NA>     <NA>   NaN   \n",
       "\n",
       "  start_year   end_year    type     genre1     genre2     genre3  \n",
       "0 2021-01-01        NaT   movie     Action     Horror   Thriller  \n",
       "1 2021-01-01        NaT   movie  Animation     Action  Adventure  \n",
       "2 2010-01-01 2022-01-01  series      Drama     Horror   Thriller  \n",
       "3 2013-01-01        NaT   movie  Animation  Adventure     Comedy  \n",
       "4 2021-01-01        NaT   movie     Action      Crime     Horror  "
      ]
     },
     "execution_count": 12,
     "metadata": {},
     "output_type": "execute_result"
    }
   ],
   "source": [
    "# Split the genre column into three separate columns\n",
    "genre_split = movies['genre'].str.split(', ', expand=True)\n",
    "\n",
    "# Assign new columns to the dataframe\n",
    "movies[['genre1', 'genre2', 'genre3']] = genre_split.iloc[:, :3]\n",
    "\n",
    "# Drop the original 'genre' column if no longer needed\n",
    "movies.drop(columns=['genre'], inplace=True)\n",
    "\n",
    "# Show df first lines\n",
    "movies.head()"
   ]
  },
  {
   "cell_type": "code",
   "execution_count": 13,
   "metadata": {},
   "outputs": [
    {
     "data": {
      "text/plain": [
       "title             0\n",
       "rating         1820\n",
       "description       0\n",
       "cast              0\n",
       "votes          1820\n",
       "runtime        2958\n",
       "gross          9539\n",
       "start_year     1412\n",
       "end_year       8611\n",
       "type              0\n",
       "genre1           80\n",
       "genre2         2662\n",
       "genre3         4858\n",
       "dtype: int64"
      ]
     },
     "execution_count": 13,
     "metadata": {},
     "output_type": "execute_result"
    }
   ],
   "source": [
    "# Check null value count again (in case in conversion process something went wrong)\n",
    "movies.isnull().sum()"
   ]
  },
  {
   "cell_type": "code",
   "execution_count": 14,
   "metadata": {},
   "outputs": [],
   "source": [
    "# Remove '$' and ',' from the column\n",
    "movies['gross'] = movies['gross'].astype(str).str.replace('[\\$,]', '', regex=True)\n",
    "\n",
    "# Convert M (millions) and B (billions) to numbers\n",
    "def convert_gross(value):\n",
    "    if 'M' in value:\n",
    "        return float(value.replace('M', '')) * 1_000_000\n",
    "    elif 'B' in value:\n",
    "        return float(value.replace('B', '')) * 1_000_000_000\n",
    "    else:\n",
    "        return pd.NA  # Handle NaN or unexpected values\n",
    "\n",
    "# Apply the function\n",
    "movies['gross'] = movies['gross'].apply(convert_gross)"
   ]
  },
  {
   "cell_type": "code",
   "execution_count": 15,
   "metadata": {},
   "outputs": [
    {
     "data": {
      "text/html": [
       "<div>\n",
       "<style scoped>\n",
       "    .dataframe tbody tr th:only-of-type {\n",
       "        vertical-align: middle;\n",
       "    }\n",
       "\n",
       "    .dataframe tbody tr th {\n",
       "        vertical-align: top;\n",
       "    }\n",
       "\n",
       "    .dataframe thead th {\n",
       "        text-align: right;\n",
       "    }\n",
       "</style>\n",
       "<table border=\"1\" class=\"dataframe\">\n",
       "  <thead>\n",
       "    <tr style=\"text-align: right;\">\n",
       "      <th></th>\n",
       "      <th>title</th>\n",
       "      <th>rating</th>\n",
       "      <th>description</th>\n",
       "      <th>cast</th>\n",
       "      <th>votes</th>\n",
       "      <th>runtime</th>\n",
       "      <th>gross</th>\n",
       "      <th>start_year</th>\n",
       "      <th>end_year</th>\n",
       "      <th>type</th>\n",
       "      <th>genre1</th>\n",
       "      <th>genre2</th>\n",
       "      <th>genre3</th>\n",
       "    </tr>\n",
       "  </thead>\n",
       "  <tbody>\n",
       "    <tr>\n",
       "      <th>0</th>\n",
       "      <td>Blood Red Sky</td>\n",
       "      <td>6.1</td>\n",
       "      <td>A woman with a mysterious illness is forced in...</td>\n",
       "      <td>Director:Peter Thorwarth|     Stars:Peri Baume...</td>\n",
       "      <td>21062</td>\n",
       "      <td>121</td>\n",
       "      <td>&lt;NA&gt;</td>\n",
       "      <td>2021-01-01</td>\n",
       "      <td>NaT</td>\n",
       "      <td>movie</td>\n",
       "      <td>Action</td>\n",
       "      <td>Horror</td>\n",
       "      <td>Thriller</td>\n",
       "    </tr>\n",
       "    <tr>\n",
       "      <th>1</th>\n",
       "      <td>Masters of the Universe: Revelation</td>\n",
       "      <td>5.0</td>\n",
       "      <td>The war for Eternia begins again in what may b...</td>\n",
       "      <td>Stars:Chris Wood, Sarah Michelle Gellar, Lena ...</td>\n",
       "      <td>17870</td>\n",
       "      <td>25</td>\n",
       "      <td>&lt;NA&gt;</td>\n",
       "      <td>2021-01-01</td>\n",
       "      <td>NaT</td>\n",
       "      <td>movie</td>\n",
       "      <td>Animation</td>\n",
       "      <td>Action</td>\n",
       "      <td>Adventure</td>\n",
       "    </tr>\n",
       "    <tr>\n",
       "      <th>2</th>\n",
       "      <td>The Walking Dead</td>\n",
       "      <td>8.2</td>\n",
       "      <td>Sheriff Deputy Rick Grimes wakes up from a com...</td>\n",
       "      <td>Stars:Andrew Lincoln, Norman Reedus, Melissa M...</td>\n",
       "      <td>885805</td>\n",
       "      <td>44</td>\n",
       "      <td>&lt;NA&gt;</td>\n",
       "      <td>2010-01-01</td>\n",
       "      <td>2022-01-01</td>\n",
       "      <td>series</td>\n",
       "      <td>Drama</td>\n",
       "      <td>Horror</td>\n",
       "      <td>Thriller</td>\n",
       "    </tr>\n",
       "    <tr>\n",
       "      <th>3</th>\n",
       "      <td>Rick and Morty</td>\n",
       "      <td>9.2</td>\n",
       "      <td>An animated series that follows the exploits o...</td>\n",
       "      <td>Stars:Justin Roiland, Chris Parnell, Spencer G...</td>\n",
       "      <td>414849</td>\n",
       "      <td>23</td>\n",
       "      <td>&lt;NA&gt;</td>\n",
       "      <td>2013-01-01</td>\n",
       "      <td>NaT</td>\n",
       "      <td>movie</td>\n",
       "      <td>Animation</td>\n",
       "      <td>Adventure</td>\n",
       "      <td>Comedy</td>\n",
       "    </tr>\n",
       "    <tr>\n",
       "      <th>4</th>\n",
       "      <td>Army of Thieves</td>\n",
       "      <td>NaN</td>\n",
       "      <td>A prequel, set before the events of Army of th...</td>\n",
       "      <td>Director:Matthias Schweighöfer|     Stars:Matt...</td>\n",
       "      <td>&lt;NA&gt;</td>\n",
       "      <td>&lt;NA&gt;</td>\n",
       "      <td>&lt;NA&gt;</td>\n",
       "      <td>2021-01-01</td>\n",
       "      <td>NaT</td>\n",
       "      <td>movie</td>\n",
       "      <td>Action</td>\n",
       "      <td>Crime</td>\n",
       "      <td>Horror</td>\n",
       "    </tr>\n",
       "  </tbody>\n",
       "</table>\n",
       "</div>"
      ],
      "text/plain": [
       "                                 title  rating  \\\n",
       "0                        Blood Red Sky     6.1   \n",
       "1  Masters of the Universe: Revelation     5.0   \n",
       "2                     The Walking Dead     8.2   \n",
       "3                       Rick and Morty     9.2   \n",
       "4                      Army of Thieves     NaN   \n",
       "\n",
       "                                         description  \\\n",
       "0  A woman with a mysterious illness is forced in...   \n",
       "1  The war for Eternia begins again in what may b...   \n",
       "2  Sheriff Deputy Rick Grimes wakes up from a com...   \n",
       "3  An animated series that follows the exploits o...   \n",
       "4  A prequel, set before the events of Army of th...   \n",
       "\n",
       "                                                cast   votes  runtime gross  \\\n",
       "0  Director:Peter Thorwarth|     Stars:Peri Baume...   21062      121  <NA>   \n",
       "1  Stars:Chris Wood, Sarah Michelle Gellar, Lena ...   17870       25  <NA>   \n",
       "2  Stars:Andrew Lincoln, Norman Reedus, Melissa M...  885805       44  <NA>   \n",
       "3  Stars:Justin Roiland, Chris Parnell, Spencer G...  414849       23  <NA>   \n",
       "4  Director:Matthias Schweighöfer|     Stars:Matt...    <NA>     <NA>  <NA>   \n",
       "\n",
       "  start_year   end_year    type     genre1     genre2     genre3  \n",
       "0 2021-01-01        NaT   movie     Action     Horror   Thriller  \n",
       "1 2021-01-01        NaT   movie  Animation     Action  Adventure  \n",
       "2 2010-01-01 2022-01-01  series      Drama     Horror   Thriller  \n",
       "3 2013-01-01        NaT   movie  Animation  Adventure     Comedy  \n",
       "4 2021-01-01        NaT   movie     Action      Crime     Horror  "
      ]
     },
     "execution_count": 15,
     "metadata": {},
     "output_type": "execute_result"
    }
   ],
   "source": [
    "movies.head()"
   ]
  },
  {
   "cell_type": "code",
   "execution_count": 16,
   "metadata": {},
   "outputs": [],
   "source": [
    "movies.to_csv('movies_cleaned.csv', index=False)"
   ]
  },
  {
   "cell_type": "code",
   "execution_count": 17,
   "metadata": {},
   "outputs": [
    {
     "data": {
      "image/png": "[encoded data removed]",
      "text/plain": [
       "<Figure size 800x500 with 1 Axes>"
      ]
     },
     "metadata": {},
     "output_type": "display_data"
    },
    {
     "data": {
      "image/png": "[encoded data removed]",
      "text/plain": [
       "<Figure size 800x500 with 1 Axes>"
      ]
     },
     "metadata": {},
     "output_type": "display_data"
    },
    {
     "name": "stdout",
     "output_type": "stream",
     "text": [
      "           rating     votes   runtime\n",
      "rating   1.000000  0.103435 -0.223826\n",
      "votes    0.103435  1.000000  0.143464\n",
      "runtime -0.223826  0.143464  1.000000\n"
     ]
    },
    {
     "data": {
      "image/png": "[encoded data removed]",
      "text/plain": [
       "<Figure size 600x400 with 2 Axes>"
      ]
     },
     "metadata": {},
     "output_type": "display_data"
    }
   ],
   "source": [
    "# Imports\n",
    "import matplotlib.pyplot as plt\n",
    "import seaborn as sns\n",
    "\n",
    "# Plot distribution of ratings\n",
    "plt.figure(figsize=(8, 5))\n",
    "movies['rating'].hist(bins=20)\n",
    "plt.title('Distribution of Movie Ratings')\n",
    "plt.xlabel('Rating')\n",
    "plt.ylabel('Frequency')\n",
    "plt.show()\n",
    "\n",
    "# Plot distribution of votes\n",
    "plt.figure(figsize=(8, 5))\n",
    "movies['votes'].hist(bins=20)\n",
    "plt.title('Distribution of Votes')\n",
    "plt.xlabel('Votes')\n",
    "plt.ylabel('Frequency')\n",
    "plt.show()\n",
    "\n",
    "# Check correlations among numeric variables\n",
    "print(movies[['rating', 'votes', 'runtime']].corr())\n",
    "\n",
    "# Plot a correlation heatmap\n",
    "plt.figure(figsize=(6, 4))\n",
    "sns.heatmap(movies[['rating', 'votes', 'runtime']].corr(), annot=True, cmap='coolwarm')\n",
    "plt.title('Correlation between Numeric Features')\n",
    "plt.show()\n"
   ]
  },
  {
   "cell_type": "code",
   "execution_count": 18,
   "metadata": {},
   "outputs": [
    {
     "name": "stdout",
     "output_type": "stream",
     "text": [
      "type\n",
      "movie     6.753815\n",
      "series    7.767778\n",
      "Name: rating, dtype: float64\n",
      "type\n",
      "movie     13876.379118\n",
      "series    21435.493333\n",
      "Name: votes, dtype: Float64\n",
      "type\n",
      "movie     8611\n",
      "series    1388\n",
      "Name: count, dtype: int64\n"
     ]
    }
   ],
   "source": [
    "# Average rating by type\n",
    "print(movies.groupby('type')['rating'].mean())\n",
    "\n",
    "# Average votes by type\n",
    "print(movies.groupby('type')['votes'].mean())\n",
    "\n",
    "# Count of movies per type\n",
    "print(movies['type'].value_counts())"
   ]
  },
  {
   "cell_type": "code",
   "execution_count": 19,
   "metadata": {},
   "outputs": [
    {
     "name": "stdout",
     "output_type": "stream",
     "text": [
      "start_year_only\n",
      "1932.0       2\n",
      "1933.0       1\n",
      "1938.0       1\n",
      "1941.0       1\n",
      "1944.0       1\n",
      "          ... \n",
      "2019.0    1339\n",
      "2020.0    1609\n",
      "2021.0    1089\n",
      "2022.0     140\n",
      "2023.0       2\n",
      "Name: count, Length: 78, dtype: int64\n"
     ]
    },
    {
     "data": {
      "image/png": "[encoded data removed]",
      "text/plain": [
       "<Figure size 1000x500 with 1 Axes>"
      ]
     },
     "metadata": {},
     "output_type": "display_data"
    }
   ],
   "source": [
    "# Extract the year from the 'start_year' datetime\n",
    "movies['start_year_only'] = movies['start_year'].dt.year\n",
    "\n",
    "# Count movies per start year\n",
    "start_year_counts = movies['start_year_only'].value_counts().sort_index()\n",
    "print(start_year_counts)\n",
    "\n",
    "# Plot movies per start year\n",
    "plt.figure(figsize=(10, 5))\n",
    "start_year_counts.plot(kind='bar')\n",
    "plt.title('Number of Movies/Series per Start Year')\n",
    "plt.xlabel('Year')\n",
    "plt.ylabel('Count')\n",
    "plt.show()\n"
   ]
  },
  {
   "cell_type": "code",
   "execution_count": 20,
   "metadata": {},
   "outputs": [
    {
     "name": "stdout",
     "output_type": "stream",
     "text": [
      "genre1\n",
      "War            8.200000\n",
      "Film-Noir      7.500000\n",
      "Animation      7.380458\n",
      "Music          7.364286\n",
      "Crime          7.289201\n",
      "Documentary    7.174714\n",
      "Sport          6.960000\n",
      "Biography      6.919084\n",
      "Drama          6.860949\n",
      "Talk-Show      6.850000\n",
      "Short          6.822581\n",
      "Comedy         6.740758\n",
      "Romance        6.734375\n",
      "Adventure      6.711888\n",
      "Musical        6.700000\n",
      "Action         6.695075\n",
      "Reality-TV     6.575000\n",
      "Western        6.560000\n",
      "Family         6.472727\n",
      "Game-Show      6.347826\n",
      "History        6.200000\n",
      "News           6.150000\n",
      "Fantasy        6.028000\n",
      "Mystery        5.731579\n",
      "Sci-Fi         5.445455\n",
      "Thriller       5.160976\n",
      "Horror         5.044286\n",
      "Name: rating, dtype: float64\n"
     ]
    }
   ],
   "source": [
    "# Average rating by the primary genre\n",
    "print(movies.groupby('genre1')['rating'].mean().sort_values(ascending=False))"
   ]
  }
 ],
 "metadata": {
  "kernelspec": {
   "display_name": "venv",
   "language": "python",
   "name": "python3"
  },
  "language_info": {
   "codemirror_mode": {
    "name": "ipython",
    "version": 3
   },
   "file_extension": ".py",
   "mimetype": "text/x-python",
   "name": "python",
   "nbconvert_exporter": "python",
   "pygments_lexer": "ipython3",
   "version": "3.9.6"
  }
 },
 "nbformat": 4,
 "nbformat_minor": 2
}
